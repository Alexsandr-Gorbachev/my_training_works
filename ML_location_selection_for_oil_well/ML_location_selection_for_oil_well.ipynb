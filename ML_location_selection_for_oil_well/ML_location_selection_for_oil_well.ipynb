{
 "cells": [
  {
   "cell_type": "markdown",
   "id": "22c684c8",
   "metadata": {},
   "source": [
    "### Выбор локации для скважины"
   ]
  },
  {
   "cell_type": "markdown",
   "id": "b38040b0",
   "metadata": {},
   "source": [
    "Допустим, вы работаете в нефтедобывающей компании. Нужно решить, где бурить новую скважину.\n",
    "\n",
    "Вам предоставлены пробы нефти в трёх регионах: в каждом 10 000 месторождений, где измерили качество нефти и объём её запасов. Постройте модель машинного обучения, которая поможет определить регион, где добыча принесёт наибольшую прибыль."
   ]
  },
  {
   "cell_type": "markdown",
   "id": "d35eb20e",
   "metadata": {},
   "source": [
    "### Загрузка и подготовка данных"
   ]
  },
  {
   "cell_type": "code",
   "execution_count": 1,
   "id": "3c61fbfe",
   "metadata": {},
   "outputs": [],
   "source": [
    "import pandas as pd # импорт библиотеки pandas\n",
    "import numpy as np # импорт библиотеки numpy\n",
    "from sklearn.linear_model import LinearRegression # импорт из библиотеки sklearn алгоритма линейной регрессии\n",
    "from sklearn.model_selection import train_test_split # импорт из библиотеки sklearn функции разделения выборок\n",
    "from sklearn.metrics import mean_squared_error # импорт из библиотеки sklearn функции метрики средней квадратичной ошибки\n",
    "import matplotlib.pyplot as plt # импорт из библиотеки matplotlib функции построения графиков"
   ]
  },
  {
   "cell_type": "code",
   "execution_count": 2,
   "id": "4a37dff9",
   "metadata": {},
   "outputs": [],
   "source": [
    "# прочитаем файлы\n",
    "df_1 = pd.read_csv('geo_data_0.csv')\n",
    "df_2 = pd.read_csv('geo_data_1.csv')\n",
    "df_3 = pd.read_csv('geo_data_2.csv')"
   ]
  },
  {
   "cell_type": "markdown",
   "id": "822f56ff",
   "metadata": {},
   "source": [
    "- id — уникальный идентификатор скважины;\n",
    "- f0, f1, f2 — три признака точек;\n",
    "- product — объём запасов в скважине (тыс. баррелей)."
   ]
  },
  {
   "cell_type": "code",
   "execution_count": 3,
   "id": "74d2b8b4",
   "metadata": {},
   "outputs": [
    {
     "data": {
      "text/html": [
       "<div>\n",
       "<style scoped>\n",
       "    .dataframe tbody tr th:only-of-type {\n",
       "        vertical-align: middle;\n",
       "    }\n",
       "\n",
       "    .dataframe tbody tr th {\n",
       "        vertical-align: top;\n",
       "    }\n",
       "\n",
       "    .dataframe thead th {\n",
       "        text-align: right;\n",
       "    }\n",
       "</style>\n",
       "<table border=\"1\" class=\"dataframe\">\n",
       "  <thead>\n",
       "    <tr style=\"text-align: right;\">\n",
       "      <th></th>\n",
       "      <th>id</th>\n",
       "      <th>f0</th>\n",
       "      <th>f1</th>\n",
       "      <th>f2</th>\n",
       "      <th>product</th>\n",
       "    </tr>\n",
       "  </thead>\n",
       "  <tbody>\n",
       "    <tr>\n",
       "      <th>0</th>\n",
       "      <td>txEyH</td>\n",
       "      <td>0.705745</td>\n",
       "      <td>-0.497823</td>\n",
       "      <td>1.221170</td>\n",
       "      <td>105.280062</td>\n",
       "    </tr>\n",
       "    <tr>\n",
       "      <th>1</th>\n",
       "      <td>2acmU</td>\n",
       "      <td>1.334711</td>\n",
       "      <td>-0.340164</td>\n",
       "      <td>4.365080</td>\n",
       "      <td>73.037750</td>\n",
       "    </tr>\n",
       "    <tr>\n",
       "      <th>2</th>\n",
       "      <td>409Wp</td>\n",
       "      <td>1.022732</td>\n",
       "      <td>0.151990</td>\n",
       "      <td>1.419926</td>\n",
       "      <td>85.265647</td>\n",
       "    </tr>\n",
       "    <tr>\n",
       "      <th>3</th>\n",
       "      <td>iJLyR</td>\n",
       "      <td>-0.032172</td>\n",
       "      <td>0.139033</td>\n",
       "      <td>2.978566</td>\n",
       "      <td>168.620776</td>\n",
       "    </tr>\n",
       "    <tr>\n",
       "      <th>4</th>\n",
       "      <td>Xdl7t</td>\n",
       "      <td>1.988431</td>\n",
       "      <td>0.155413</td>\n",
       "      <td>4.751769</td>\n",
       "      <td>154.036647</td>\n",
       "    </tr>\n",
       "  </tbody>\n",
       "</table>\n",
       "</div>"
      ],
      "text/plain": [
       "      id        f0        f1        f2     product\n",
       "0  txEyH  0.705745 -0.497823  1.221170  105.280062\n",
       "1  2acmU  1.334711 -0.340164  4.365080   73.037750\n",
       "2  409Wp  1.022732  0.151990  1.419926   85.265647\n",
       "3  iJLyR -0.032172  0.139033  2.978566  168.620776\n",
       "4  Xdl7t  1.988431  0.155413  4.751769  154.036647"
      ]
     },
     "metadata": {},
     "output_type": "display_data"
    },
    {
     "name": "stdout",
     "output_type": "stream",
     "text": [
      "<class 'pandas.core.frame.DataFrame'>\n",
      "RangeIndex: 100000 entries, 0 to 99999\n",
      "Data columns (total 5 columns):\n",
      " #   Column   Non-Null Count   Dtype  \n",
      "---  ------   --------------   -----  \n",
      " 0   id       100000 non-null  object \n",
      " 1   f0       100000 non-null  float64\n",
      " 2   f1       100000 non-null  float64\n",
      " 3   f2       100000 non-null  float64\n",
      " 4   product  100000 non-null  float64\n",
      "dtypes: float64(4), object(1)\n",
      "memory usage: 3.8+ MB\n"
     ]
    },
    {
     "data": {
      "text/plain": [
       "None"
      ]
     },
     "metadata": {},
     "output_type": "display_data"
    },
    {
     "data": {
      "text/html": [
       "<div>\n",
       "<style scoped>\n",
       "    .dataframe tbody tr th:only-of-type {\n",
       "        vertical-align: middle;\n",
       "    }\n",
       "\n",
       "    .dataframe tbody tr th {\n",
       "        vertical-align: top;\n",
       "    }\n",
       "\n",
       "    .dataframe thead th {\n",
       "        text-align: right;\n",
       "    }\n",
       "</style>\n",
       "<table border=\"1\" class=\"dataframe\">\n",
       "  <thead>\n",
       "    <tr style=\"text-align: right;\">\n",
       "      <th></th>\n",
       "      <th>id</th>\n",
       "      <th>f0</th>\n",
       "      <th>f1</th>\n",
       "      <th>f2</th>\n",
       "      <th>product</th>\n",
       "    </tr>\n",
       "  </thead>\n",
       "  <tbody>\n",
       "    <tr>\n",
       "      <th>0</th>\n",
       "      <td>kBEdx</td>\n",
       "      <td>-15.001348</td>\n",
       "      <td>-8.276000</td>\n",
       "      <td>-0.005876</td>\n",
       "      <td>3.179103</td>\n",
       "    </tr>\n",
       "    <tr>\n",
       "      <th>1</th>\n",
       "      <td>62mP7</td>\n",
       "      <td>14.272088</td>\n",
       "      <td>-3.475083</td>\n",
       "      <td>0.999183</td>\n",
       "      <td>26.953261</td>\n",
       "    </tr>\n",
       "    <tr>\n",
       "      <th>2</th>\n",
       "      <td>vyE1P</td>\n",
       "      <td>6.263187</td>\n",
       "      <td>-5.948386</td>\n",
       "      <td>5.001160</td>\n",
       "      <td>134.766305</td>\n",
       "    </tr>\n",
       "    <tr>\n",
       "      <th>3</th>\n",
       "      <td>KcrkZ</td>\n",
       "      <td>-13.081196</td>\n",
       "      <td>-11.506057</td>\n",
       "      <td>4.999415</td>\n",
       "      <td>137.945408</td>\n",
       "    </tr>\n",
       "    <tr>\n",
       "      <th>4</th>\n",
       "      <td>AHL4O</td>\n",
       "      <td>12.702195</td>\n",
       "      <td>-8.147433</td>\n",
       "      <td>5.004363</td>\n",
       "      <td>134.766305</td>\n",
       "    </tr>\n",
       "  </tbody>\n",
       "</table>\n",
       "</div>"
      ],
      "text/plain": [
       "      id         f0         f1        f2     product\n",
       "0  kBEdx -15.001348  -8.276000 -0.005876    3.179103\n",
       "1  62mP7  14.272088  -3.475083  0.999183   26.953261\n",
       "2  vyE1P   6.263187  -5.948386  5.001160  134.766305\n",
       "3  KcrkZ -13.081196 -11.506057  4.999415  137.945408\n",
       "4  AHL4O  12.702195  -8.147433  5.004363  134.766305"
      ]
     },
     "metadata": {},
     "output_type": "display_data"
    },
    {
     "name": "stdout",
     "output_type": "stream",
     "text": [
      "<class 'pandas.core.frame.DataFrame'>\n",
      "RangeIndex: 100000 entries, 0 to 99999\n",
      "Data columns (total 5 columns):\n",
      " #   Column   Non-Null Count   Dtype  \n",
      "---  ------   --------------   -----  \n",
      " 0   id       100000 non-null  object \n",
      " 1   f0       100000 non-null  float64\n",
      " 2   f1       100000 non-null  float64\n",
      " 3   f2       100000 non-null  float64\n",
      " 4   product  100000 non-null  float64\n",
      "dtypes: float64(4), object(1)\n",
      "memory usage: 3.8+ MB\n"
     ]
    },
    {
     "data": {
      "text/plain": [
       "None"
      ]
     },
     "metadata": {},
     "output_type": "display_data"
    },
    {
     "data": {
      "text/html": [
       "<div>\n",
       "<style scoped>\n",
       "    .dataframe tbody tr th:only-of-type {\n",
       "        vertical-align: middle;\n",
       "    }\n",
       "\n",
       "    .dataframe tbody tr th {\n",
       "        vertical-align: top;\n",
       "    }\n",
       "\n",
       "    .dataframe thead th {\n",
       "        text-align: right;\n",
       "    }\n",
       "</style>\n",
       "<table border=\"1\" class=\"dataframe\">\n",
       "  <thead>\n",
       "    <tr style=\"text-align: right;\">\n",
       "      <th></th>\n",
       "      <th>id</th>\n",
       "      <th>f0</th>\n",
       "      <th>f1</th>\n",
       "      <th>f2</th>\n",
       "      <th>product</th>\n",
       "    </tr>\n",
       "  </thead>\n",
       "  <tbody>\n",
       "    <tr>\n",
       "      <th>0</th>\n",
       "      <td>fwXo0</td>\n",
       "      <td>-1.146987</td>\n",
       "      <td>0.963328</td>\n",
       "      <td>-0.828965</td>\n",
       "      <td>27.758673</td>\n",
       "    </tr>\n",
       "    <tr>\n",
       "      <th>1</th>\n",
       "      <td>WJtFt</td>\n",
       "      <td>0.262778</td>\n",
       "      <td>0.269839</td>\n",
       "      <td>-2.530187</td>\n",
       "      <td>56.069697</td>\n",
       "    </tr>\n",
       "    <tr>\n",
       "      <th>2</th>\n",
       "      <td>ovLUW</td>\n",
       "      <td>0.194587</td>\n",
       "      <td>0.289035</td>\n",
       "      <td>-5.586433</td>\n",
       "      <td>62.871910</td>\n",
       "    </tr>\n",
       "    <tr>\n",
       "      <th>3</th>\n",
       "      <td>q6cA6</td>\n",
       "      <td>2.236060</td>\n",
       "      <td>-0.553760</td>\n",
       "      <td>0.930038</td>\n",
       "      <td>114.572842</td>\n",
       "    </tr>\n",
       "    <tr>\n",
       "      <th>4</th>\n",
       "      <td>WPMUX</td>\n",
       "      <td>-0.515993</td>\n",
       "      <td>1.716266</td>\n",
       "      <td>5.899011</td>\n",
       "      <td>149.600746</td>\n",
       "    </tr>\n",
       "  </tbody>\n",
       "</table>\n",
       "</div>"
      ],
      "text/plain": [
       "      id        f0        f1        f2     product\n",
       "0  fwXo0 -1.146987  0.963328 -0.828965   27.758673\n",
       "1  WJtFt  0.262778  0.269839 -2.530187   56.069697\n",
       "2  ovLUW  0.194587  0.289035 -5.586433   62.871910\n",
       "3  q6cA6  2.236060 -0.553760  0.930038  114.572842\n",
       "4  WPMUX -0.515993  1.716266  5.899011  149.600746"
      ]
     },
     "metadata": {},
     "output_type": "display_data"
    },
    {
     "name": "stdout",
     "output_type": "stream",
     "text": [
      "<class 'pandas.core.frame.DataFrame'>\n",
      "RangeIndex: 100000 entries, 0 to 99999\n",
      "Data columns (total 5 columns):\n",
      " #   Column   Non-Null Count   Dtype  \n",
      "---  ------   --------------   -----  \n",
      " 0   id       100000 non-null  object \n",
      " 1   f0       100000 non-null  float64\n",
      " 2   f1       100000 non-null  float64\n",
      " 3   f2       100000 non-null  float64\n",
      " 4   product  100000 non-null  float64\n",
      "dtypes: float64(4), object(1)\n",
      "memory usage: 3.8+ MB\n"
     ]
    },
    {
     "data": {
      "text/plain": [
       "None"
      ]
     },
     "metadata": {},
     "output_type": "display_data"
    }
   ],
   "source": [
    "# посмотрим на данные\n",
    "display(df_1.head())\n",
    "display(df_1.info())\n",
    "display(df_2.head())\n",
    "display(df_2.info())\n",
    "display(df_3.head())\n",
    "display(df_3.info())"
   ]
  },
  {
   "cell_type": "markdown",
   "id": "64130ebe",
   "metadata": {},
   "source": [
    "Пропусков в данных нет."
   ]
  },
  {
   "cell_type": "code",
   "execution_count": 4,
   "id": "0b599544",
   "metadata": {},
   "outputs": [
    {
     "data": {
      "text/plain": [
       "id          99990\n",
       "f0         100000\n",
       "f1         100000\n",
       "f2         100000\n",
       "product    100000\n",
       "dtype: int64"
      ]
     },
     "metadata": {},
     "output_type": "display_data"
    },
    {
     "data": {
      "text/plain": [
       "id          99996\n",
       "f0         100000\n",
       "f1         100000\n",
       "f2         100000\n",
       "product        12\n",
       "dtype: int64"
      ]
     },
     "metadata": {},
     "output_type": "display_data"
    },
    {
     "data": {
      "text/plain": [
       "id          99996\n",
       "f0         100000\n",
       "f1         100000\n",
       "f2         100000\n",
       "product    100000\n",
       "dtype: int64"
      ]
     },
     "metadata": {},
     "output_type": "display_data"
    }
   ],
   "source": [
    "# проверю на уникальные значения\n",
    "display(df_1.nunique())\n",
    "display(df_2.nunique())\n",
    "display(df_3.nunique())"
   ]
  },
  {
   "cell_type": "markdown",
   "id": "07055e2f",
   "metadata": {},
   "source": [
    "Возникли вопросы по значениям в id, скорее всего дубли скважин\n",
    "\n",
    "А также странные значения в product - 2 регион"
   ]
  },
  {
   "cell_type": "code",
   "execution_count": 5,
   "id": "36dc7e1c",
   "metadata": {},
   "outputs": [
    {
     "data": {
      "text/plain": [
       "fiKDv    2\n",
       "QcMuo    2\n",
       "AGS9W    2\n",
       "Tdehs    2\n",
       "74z30    2\n",
       "        ..\n",
       "x8osI    1\n",
       "gZ7tR    1\n",
       "Zw8hj    1\n",
       "zcrQO    1\n",
       "1CWhH    1\n",
       "Name: id, Length: 99990, dtype: int64"
      ]
     },
     "execution_count": 5,
     "metadata": {},
     "output_type": "execute_result"
    }
   ],
   "source": [
    "# проверю уникальные значения в 'id'\n",
    "df_1['id'].value_counts()"
   ]
  },
  {
   "cell_type": "code",
   "execution_count": 6,
   "id": "b5ca09dc",
   "metadata": {},
   "outputs": [
    {
     "data": {
      "text/html": [
       "<div>\n",
       "<style scoped>\n",
       "    .dataframe tbody tr th:only-of-type {\n",
       "        vertical-align: middle;\n",
       "    }\n",
       "\n",
       "    .dataframe tbody tr th {\n",
       "        vertical-align: top;\n",
       "    }\n",
       "\n",
       "    .dataframe thead th {\n",
       "        text-align: right;\n",
       "    }\n",
       "</style>\n",
       "<table border=\"1\" class=\"dataframe\">\n",
       "  <thead>\n",
       "    <tr style=\"text-align: right;\">\n",
       "      <th></th>\n",
       "      <th>id</th>\n",
       "      <th>f0</th>\n",
       "      <th>f1</th>\n",
       "      <th>f2</th>\n",
       "      <th>product</th>\n",
       "    </tr>\n",
       "  </thead>\n",
       "  <tbody>\n",
       "    <tr>\n",
       "      <th>21426</th>\n",
       "      <td>Tdehs</td>\n",
       "      <td>0.829407</td>\n",
       "      <td>0.298807</td>\n",
       "      <td>-0.049563</td>\n",
       "      <td>96.035308</td>\n",
       "    </tr>\n",
       "    <tr>\n",
       "      <th>75715</th>\n",
       "      <td>Tdehs</td>\n",
       "      <td>0.112079</td>\n",
       "      <td>0.430296</td>\n",
       "      <td>3.218993</td>\n",
       "      <td>60.964018</td>\n",
       "    </tr>\n",
       "  </tbody>\n",
       "</table>\n",
       "</div>"
      ],
      "text/plain": [
       "          id        f0        f1        f2    product\n",
       "21426  Tdehs  0.829407  0.298807 -0.049563  96.035308\n",
       "75715  Tdehs  0.112079  0.430296  3.218993  60.964018"
      ]
     },
     "execution_count": 6,
     "metadata": {},
     "output_type": "execute_result"
    }
   ],
   "source": [
    "df_1[df_1['id'] == 'Tdehs'].head()"
   ]
  },
  {
   "cell_type": "markdown",
   "id": "5a314c33",
   "metadata": {},
   "source": [
    "Наименование одно, а данные другие."
   ]
  },
  {
   "cell_type": "code",
   "execution_count": 7,
   "id": "62a4008e",
   "metadata": {},
   "outputs": [],
   "source": [
    "# удалим столбец с уникальным номер скаважины, так как он не нужен для работы модели\n",
    "df_1, df_2, df_3 = \\\n",
    "    df_1.drop('id', axis = 1), df_2.drop('id', axis = 1), df_3.drop('id', axis = 1)"
   ]
  },
  {
   "cell_type": "markdown",
   "id": "4f8b7f49",
   "metadata": {},
   "source": [
    "Т.к. объём запасов в скважине измеряется в тыс. баррелей, то, пожалуй, округлю и уберу все значения после запятой."
   ]
  },
  {
   "cell_type": "code",
   "execution_count": 8,
   "id": "486a05a3",
   "metadata": {},
   "outputs": [
    {
     "data": {
      "text/plain": [
       "105.280062    1\n",
       "122.799517    1\n",
       "61.817308     1\n",
       "37.155071     1\n",
       "73.090084     1\n",
       "             ..\n",
       "154.694803    1\n",
       "79.818082     1\n",
       "138.609486    1\n",
       "62.540393     1\n",
       "149.633246    1\n",
       "Name: product, Length: 100000, dtype: int64"
      ]
     },
     "execution_count": 8,
     "metadata": {},
     "output_type": "execute_result"
    }
   ],
   "source": [
    "df_1['product'].value_counts()"
   ]
  },
  {
   "cell_type": "code",
   "execution_count": 9,
   "id": "4663fe77",
   "metadata": {},
   "outputs": [],
   "source": [
    "df_1['product'] = df_1['product'].round(0).astype('Int64')\n",
    "df_2['product'] = df_2['product'].round(0).astype('Int64')\n",
    "df_3['product'] = df_3['product'].round(0).astype('Int64')"
   ]
  },
  {
   "cell_type": "code",
   "execution_count": 10,
   "id": "2ff105a9",
   "metadata": {},
   "outputs": [
    {
     "data": {
      "text/plain": [
       "0      8235\n",
       "3      8337\n",
       "27     8468\n",
       "30     8306\n",
       "54     8472\n",
       "57     8390\n",
       "81     8320\n",
       "84     8431\n",
       "108    8201\n",
       "111    8303\n",
       "135    8304\n",
       "138    8233\n",
       "Name: product, dtype: Int64"
      ]
     },
     "execution_count": 10,
     "metadata": {},
     "output_type": "execute_result"
    }
   ],
   "source": [
    "df_2['product'].value_counts().sort_index()"
   ]
  },
  {
   "cell_type": "markdown",
   "id": "ae23721c",
   "metadata": {},
   "source": [
    "Очень странное распределение во втором регионе. \n",
    "<br>Могу сделать предположение, что данную категорию поделили на 12 выборок по примерно равным объемам. "
   ]
  },
  {
   "cell_type": "markdown",
   "id": "d06a2d0c",
   "metadata": {},
   "source": [
    "Попробовал выделить визуально группы. 8 групп в принципе четко выделяется в других 2 регионах."
   ]
  },
  {
   "cell_type": "code",
   "execution_count": 11,
   "id": "3c616776",
   "metadata": {},
   "outputs": [
    {
     "data": {
      "image/png": "[encoded data removed]",
      "text/plain": [
       "<Figure size 432x288 with 1 Axes>"
      ]
     },
     "metadata": {
      "needs_background": "light"
     },
     "output_type": "display_data"
    }
   ],
   "source": [
    "df_1['product'].hist(bins=186);"
   ]
  },
  {
   "cell_type": "code",
   "execution_count": 12,
   "id": "6d54192d",
   "metadata": {},
   "outputs": [
    {
     "data": {
      "image/png": "[encoded data removed]",
      "text/plain": [
       "<Figure size 432x288 with 1 Axes>"
      ]
     },
     "metadata": {
      "needs_background": "light"
     },
     "output_type": "display_data"
    }
   ],
   "source": [
    "df_2['product'].hist(bins=100);"
   ]
  },
  {
   "cell_type": "code",
   "execution_count": 13,
   "id": "dfb2b7cc",
   "metadata": {},
   "outputs": [
    {
     "data": {
      "image/png": "[encoded data removed]",
      "text/plain": [
       "<Figure size 432x288 with 1 Axes>"
      ]
     },
     "metadata": {
      "needs_background": "light"
     },
     "output_type": "display_data"
    }
   ],
   "source": [
    "df_3['product'].hist(bins=191);"
   ]
  },
  {
   "cell_type": "markdown",
   "id": "cf774170",
   "metadata": {},
   "source": [
    "- На **графике взаимосявязи scatter** признаки **f2 и целевой признак**, явно имеют линейную взаимосвязь о корелируют.\n",
    "- Такое ощущение, что все признаки для региона 2 были изменены, для возможно какого то улучшения данных.\n",
    "- Выбросов нет.\n",
    "- Так как проект учебный, мы не можем уточнить данную информацию."
   ]
  },
  {
   "cell_type": "code",
   "execution_count": 14,
   "id": "c4e24bf1",
   "metadata": {},
   "outputs": [],
   "source": [
    "def show_me_scatter(df, a, b):\n",
    "    '''\n",
    "    функция для построения графика scatter\n",
    "    \n",
    "    '''\n",
    "    plt.scatter(df.columns.values[a], df.columns.values[b], data=df)\n",
    "    plt.xlabel('f2')\n",
    "    plt.ylabel('product')\n",
    "    plt.title('Взаимосвязь с целевым признаком')\n",
    "    plt.show()"
   ]
  },
  {
   "cell_type": "code",
   "execution_count": 15,
   "id": "2e3d753c",
   "metadata": {},
   "outputs": [
    {
     "data": {
      "image/png": "[encoded data removed]",
      "text/plain": [
       "<Figure size 432x288 with 1 Axes>"
      ]
     },
     "metadata": {
      "needs_background": "light"
     },
     "output_type": "display_data"
    },
    {
     "data": {
      "image/png": "[encoded data removed]",
      "text/plain": [
       "<Figure size 432x288 with 1 Axes>"
      ]
     },
     "metadata": {
      "needs_background": "light"
     },
     "output_type": "display_data"
    },
    {
     "data": {
      "image/png": "[encoded data removed]",
      "text/plain": [
       "<Figure size 432x288 with 1 Axes>"
      ]
     },
     "metadata": {
      "needs_background": "light"
     },
     "output_type": "display_data"
    }
   ],
   "source": [
    "show_me_scatter(df_1, 2, 3)\n",
    "show_me_scatter(df_2, 2, 3)\n",
    "show_me_scatter(df_3, 2, 3)"
   ]
  },
  {
   "cell_type": "markdown",
   "id": "4c547f14",
   "metadata": {},
   "source": [
    "В регионе 1 наблюдается отрицательная корреляция f0 и f1, также интересные корреляции -+ наблюдаются и с целевым признаком."
   ]
  },
  {
   "cell_type": "code",
   "execution_count": 16,
   "id": "d4cf3921",
   "metadata": {},
   "outputs": [
    {
     "data": {
      "text/html": [
       "<div>\n",
       "<style scoped>\n",
       "    .dataframe tbody tr th:only-of-type {\n",
       "        vertical-align: middle;\n",
       "    }\n",
       "\n",
       "    .dataframe tbody tr th {\n",
       "        vertical-align: top;\n",
       "    }\n",
       "\n",
       "    .dataframe thead th {\n",
       "        text-align: right;\n",
       "    }\n",
       "</style>\n",
       "<table border=\"1\" class=\"dataframe\">\n",
       "  <thead>\n",
       "    <tr style=\"text-align: right;\">\n",
       "      <th></th>\n",
       "      <th>f0</th>\n",
       "      <th>f1</th>\n",
       "      <th>f2</th>\n",
       "      <th>product</th>\n",
       "    </tr>\n",
       "  </thead>\n",
       "  <tbody>\n",
       "    <tr>\n",
       "      <th>f0</th>\n",
       "      <td>1.000000</td>\n",
       "      <td>-0.440723</td>\n",
       "      <td>-0.003153</td>\n",
       "      <td>0.143572</td>\n",
       "    </tr>\n",
       "    <tr>\n",
       "      <th>f1</th>\n",
       "      <td>-0.440723</td>\n",
       "      <td>1.000000</td>\n",
       "      <td>0.001724</td>\n",
       "      <td>-0.192375</td>\n",
       "    </tr>\n",
       "    <tr>\n",
       "      <th>f2</th>\n",
       "      <td>-0.003153</td>\n",
       "      <td>0.001724</td>\n",
       "      <td>1.000000</td>\n",
       "      <td>0.483661</td>\n",
       "    </tr>\n",
       "    <tr>\n",
       "      <th>product</th>\n",
       "      <td>0.143572</td>\n",
       "      <td>-0.192375</td>\n",
       "      <td>0.483661</td>\n",
       "      <td>1.000000</td>\n",
       "    </tr>\n",
       "  </tbody>\n",
       "</table>\n",
       "</div>"
      ],
      "text/plain": [
       "               f0        f1        f2   product\n",
       "f0       1.000000 -0.440723 -0.003153  0.143572\n",
       "f1      -0.440723  1.000000  0.001724 -0.192375\n",
       "f2      -0.003153  0.001724  1.000000  0.483661\n",
       "product  0.143572 -0.192375  0.483661  1.000000"
      ]
     },
     "execution_count": 16,
     "metadata": {},
     "output_type": "execute_result"
    }
   ],
   "source": [
    "df_1.corr()"
   ]
  },
  {
   "cell_type": "markdown",
   "id": "3cb84759",
   "metadata": {},
   "source": [
    "У региона 2 предельная кореляция product с f2"
   ]
  },
  {
   "cell_type": "code",
   "execution_count": 17,
   "id": "9592beca",
   "metadata": {},
   "outputs": [
    {
     "data": {
      "text/html": [
       "<div>\n",
       "<style scoped>\n",
       "    .dataframe tbody tr th:only-of-type {\n",
       "        vertical-align: middle;\n",
       "    }\n",
       "\n",
       "    .dataframe tbody tr th {\n",
       "        vertical-align: top;\n",
       "    }\n",
       "\n",
       "    .dataframe thead th {\n",
       "        text-align: right;\n",
       "    }\n",
       "</style>\n",
       "<table border=\"1\" class=\"dataframe\">\n",
       "  <thead>\n",
       "    <tr style=\"text-align: right;\">\n",
       "      <th></th>\n",
       "      <th>f0</th>\n",
       "      <th>f1</th>\n",
       "      <th>f2</th>\n",
       "      <th>product</th>\n",
       "    </tr>\n",
       "  </thead>\n",
       "  <tbody>\n",
       "    <tr>\n",
       "      <th>f0</th>\n",
       "      <td>1.000000</td>\n",
       "      <td>0.182287</td>\n",
       "      <td>-0.001777</td>\n",
       "      <td>-0.028828</td>\n",
       "    </tr>\n",
       "    <tr>\n",
       "      <th>f1</th>\n",
       "      <td>0.182287</td>\n",
       "      <td>1.000000</td>\n",
       "      <td>-0.002595</td>\n",
       "      <td>-0.009716</td>\n",
       "    </tr>\n",
       "    <tr>\n",
       "      <th>f2</th>\n",
       "      <td>-0.001777</td>\n",
       "      <td>-0.002595</td>\n",
       "      <td>1.000000</td>\n",
       "      <td>0.999464</td>\n",
       "    </tr>\n",
       "    <tr>\n",
       "      <th>product</th>\n",
       "      <td>-0.028828</td>\n",
       "      <td>-0.009716</td>\n",
       "      <td>0.999464</td>\n",
       "      <td>1.000000</td>\n",
       "    </tr>\n",
       "  </tbody>\n",
       "</table>\n",
       "</div>"
      ],
      "text/plain": [
       "               f0        f1        f2   product\n",
       "f0       1.000000  0.182287 -0.001777 -0.028828\n",
       "f1       0.182287  1.000000 -0.002595 -0.009716\n",
       "f2      -0.001777 -0.002595  1.000000  0.999464\n",
       "product -0.028828 -0.009716  0.999464  1.000000"
      ]
     },
     "execution_count": 17,
     "metadata": {},
     "output_type": "execute_result"
    }
   ],
   "source": [
    "df_2.corr()"
   ]
  },
  {
   "cell_type": "markdown",
   "id": "750d0677",
   "metadata": {},
   "source": [
    "У 3 региона значимая корреляция присутствует только целевого признака product и f2"
   ]
  },
  {
   "cell_type": "code",
   "execution_count": 18,
   "id": "b74fab19",
   "metadata": {},
   "outputs": [
    {
     "data": {
      "text/html": [
       "<div>\n",
       "<style scoped>\n",
       "    .dataframe tbody tr th:only-of-type {\n",
       "        vertical-align: middle;\n",
       "    }\n",
       "\n",
       "    .dataframe tbody tr th {\n",
       "        vertical-align: top;\n",
       "    }\n",
       "\n",
       "    .dataframe thead th {\n",
       "        text-align: right;\n",
       "    }\n",
       "</style>\n",
       "<table border=\"1\" class=\"dataframe\">\n",
       "  <thead>\n",
       "    <tr style=\"text-align: right;\">\n",
       "      <th></th>\n",
       "      <th>f0</th>\n",
       "      <th>f1</th>\n",
       "      <th>f2</th>\n",
       "      <th>product</th>\n",
       "    </tr>\n",
       "  </thead>\n",
       "  <tbody>\n",
       "    <tr>\n",
       "      <th>f0</th>\n",
       "      <td>1.000000</td>\n",
       "      <td>0.000528</td>\n",
       "      <td>-0.000448</td>\n",
       "      <td>-0.001997</td>\n",
       "    </tr>\n",
       "    <tr>\n",
       "      <th>f1</th>\n",
       "      <td>0.000528</td>\n",
       "      <td>1.000000</td>\n",
       "      <td>0.000779</td>\n",
       "      <td>-0.000997</td>\n",
       "    </tr>\n",
       "    <tr>\n",
       "      <th>f2</th>\n",
       "      <td>-0.000448</td>\n",
       "      <td>0.000779</td>\n",
       "      <td>1.000000</td>\n",
       "      <td>0.445853</td>\n",
       "    </tr>\n",
       "    <tr>\n",
       "      <th>product</th>\n",
       "      <td>-0.001997</td>\n",
       "      <td>-0.000997</td>\n",
       "      <td>0.445853</td>\n",
       "      <td>1.000000</td>\n",
       "    </tr>\n",
       "  </tbody>\n",
       "</table>\n",
       "</div>"
      ],
      "text/plain": [
       "               f0        f1        f2   product\n",
       "f0       1.000000  0.000528 -0.000448 -0.001997\n",
       "f1       0.000528  1.000000  0.000779 -0.000997\n",
       "f2      -0.000448  0.000779  1.000000  0.445853\n",
       "product -0.001997 -0.000997  0.445853  1.000000"
      ]
     },
     "execution_count": 18,
     "metadata": {},
     "output_type": "execute_result"
    }
   ],
   "source": [
    "df_3.corr()"
   ]
  },
  {
   "cell_type": "markdown",
   "id": "cf688a1a",
   "metadata": {},
   "source": [
    "##### Посмотрим на статистические данные"
   ]
  },
  {
   "cell_type": "code",
   "execution_count": 19,
   "id": "f01db76b",
   "metadata": {},
   "outputs": [
    {
     "data": {
      "text/html": [
       "<div>\n",
       "<style scoped>\n",
       "    .dataframe tbody tr th:only-of-type {\n",
       "        vertical-align: middle;\n",
       "    }\n",
       "\n",
       "    .dataframe tbody tr th {\n",
       "        vertical-align: top;\n",
       "    }\n",
       "\n",
       "    .dataframe thead th {\n",
       "        text-align: right;\n",
       "    }\n",
       "</style>\n",
       "<table border=\"1\" class=\"dataframe\">\n",
       "  <thead>\n",
       "    <tr style=\"text-align: right;\">\n",
       "      <th></th>\n",
       "      <th>f0</th>\n",
       "      <th>f1</th>\n",
       "      <th>f2</th>\n",
       "      <th>product</th>\n",
       "    </tr>\n",
       "  </thead>\n",
       "  <tbody>\n",
       "    <tr>\n",
       "      <th>count</th>\n",
       "      <td>100000.000000</td>\n",
       "      <td>100000.000000</td>\n",
       "      <td>100000.000000</td>\n",
       "      <td>100000.000000</td>\n",
       "    </tr>\n",
       "    <tr>\n",
       "      <th>mean</th>\n",
       "      <td>0.500419</td>\n",
       "      <td>0.250143</td>\n",
       "      <td>2.502647</td>\n",
       "      <td>92.500620</td>\n",
       "    </tr>\n",
       "    <tr>\n",
       "      <th>std</th>\n",
       "      <td>0.871832</td>\n",
       "      <td>0.504433</td>\n",
       "      <td>3.248248</td>\n",
       "      <td>44.289494</td>\n",
       "    </tr>\n",
       "    <tr>\n",
       "      <th>min</th>\n",
       "      <td>-1.408605</td>\n",
       "      <td>-0.848218</td>\n",
       "      <td>-12.088328</td>\n",
       "      <td>0.000000</td>\n",
       "    </tr>\n",
       "    <tr>\n",
       "      <th>25%</th>\n",
       "      <td>-0.072580</td>\n",
       "      <td>-0.200881</td>\n",
       "      <td>0.287748</td>\n",
       "      <td>56.000000</td>\n",
       "    </tr>\n",
       "    <tr>\n",
       "      <th>50%</th>\n",
       "      <td>0.502360</td>\n",
       "      <td>0.250252</td>\n",
       "      <td>2.515969</td>\n",
       "      <td>92.000000</td>\n",
       "    </tr>\n",
       "    <tr>\n",
       "      <th>75%</th>\n",
       "      <td>1.073581</td>\n",
       "      <td>0.700646</td>\n",
       "      <td>4.715088</td>\n",
       "      <td>129.000000</td>\n",
       "    </tr>\n",
       "    <tr>\n",
       "      <th>max</th>\n",
       "      <td>2.362331</td>\n",
       "      <td>1.343769</td>\n",
       "      <td>16.003790</td>\n",
       "      <td>185.000000</td>\n",
       "    </tr>\n",
       "  </tbody>\n",
       "</table>\n",
       "</div>"
      ],
      "text/plain": [
       "                  f0             f1             f2        product\n",
       "count  100000.000000  100000.000000  100000.000000  100000.000000\n",
       "mean        0.500419       0.250143       2.502647      92.500620\n",
       "std         0.871832       0.504433       3.248248      44.289494\n",
       "min        -1.408605      -0.848218     -12.088328       0.000000\n",
       "25%        -0.072580      -0.200881       0.287748      56.000000\n",
       "50%         0.502360       0.250252       2.515969      92.000000\n",
       "75%         1.073581       0.700646       4.715088     129.000000\n",
       "max         2.362331       1.343769      16.003790     185.000000"
      ]
     },
     "metadata": {},
     "output_type": "display_data"
    },
    {
     "data": {
      "text/html": [
       "<div>\n",
       "<style scoped>\n",
       "    .dataframe tbody tr th:only-of-type {\n",
       "        vertical-align: middle;\n",
       "    }\n",
       "\n",
       "    .dataframe tbody tr th {\n",
       "        vertical-align: top;\n",
       "    }\n",
       "\n",
       "    .dataframe thead th {\n",
       "        text-align: right;\n",
       "    }\n",
       "</style>\n",
       "<table border=\"1\" class=\"dataframe\">\n",
       "  <thead>\n",
       "    <tr style=\"text-align: right;\">\n",
       "      <th></th>\n",
       "      <th>f0</th>\n",
       "      <th>f1</th>\n",
       "      <th>f2</th>\n",
       "      <th>product</th>\n",
       "    </tr>\n",
       "  </thead>\n",
       "  <tbody>\n",
       "    <tr>\n",
       "      <th>count</th>\n",
       "      <td>100000.000000</td>\n",
       "      <td>100000.000000</td>\n",
       "      <td>100000.000000</td>\n",
       "      <td>100000.00000</td>\n",
       "    </tr>\n",
       "    <tr>\n",
       "      <th>mean</th>\n",
       "      <td>1.141296</td>\n",
       "      <td>-4.796579</td>\n",
       "      <td>2.494541</td>\n",
       "      <td>68.85204</td>\n",
       "    </tr>\n",
       "    <tr>\n",
       "      <th>std</th>\n",
       "      <td>8.965932</td>\n",
       "      <td>5.119872</td>\n",
       "      <td>1.703572</td>\n",
       "      <td>46.02096</td>\n",
       "    </tr>\n",
       "    <tr>\n",
       "      <th>min</th>\n",
       "      <td>-31.609576</td>\n",
       "      <td>-26.358598</td>\n",
       "      <td>-0.018144</td>\n",
       "      <td>0.00000</td>\n",
       "    </tr>\n",
       "    <tr>\n",
       "      <th>25%</th>\n",
       "      <td>-6.298551</td>\n",
       "      <td>-8.267985</td>\n",
       "      <td>1.000021</td>\n",
       "      <td>27.00000</td>\n",
       "    </tr>\n",
       "    <tr>\n",
       "      <th>50%</th>\n",
       "      <td>1.153055</td>\n",
       "      <td>-4.813172</td>\n",
       "      <td>2.011479</td>\n",
       "      <td>57.00000</td>\n",
       "    </tr>\n",
       "    <tr>\n",
       "      <th>75%</th>\n",
       "      <td>8.621015</td>\n",
       "      <td>-1.332816</td>\n",
       "      <td>3.999904</td>\n",
       "      <td>108.00000</td>\n",
       "    </tr>\n",
       "    <tr>\n",
       "      <th>max</th>\n",
       "      <td>29.421755</td>\n",
       "      <td>18.734063</td>\n",
       "      <td>5.019721</td>\n",
       "      <td>138.00000</td>\n",
       "    </tr>\n",
       "  </tbody>\n",
       "</table>\n",
       "</div>"
      ],
      "text/plain": [
       "                  f0             f1             f2       product\n",
       "count  100000.000000  100000.000000  100000.000000  100000.00000\n",
       "mean        1.141296      -4.796579       2.494541      68.85204\n",
       "std         8.965932       5.119872       1.703572      46.02096\n",
       "min       -31.609576     -26.358598      -0.018144       0.00000\n",
       "25%        -6.298551      -8.267985       1.000021      27.00000\n",
       "50%         1.153055      -4.813172       2.011479      57.00000\n",
       "75%         8.621015      -1.332816       3.999904     108.00000\n",
       "max        29.421755      18.734063       5.019721     138.00000"
      ]
     },
     "metadata": {},
     "output_type": "display_data"
    },
    {
     "data": {
      "text/html": [
       "<div>\n",
       "<style scoped>\n",
       "    .dataframe tbody tr th:only-of-type {\n",
       "        vertical-align: middle;\n",
       "    }\n",
       "\n",
       "    .dataframe tbody tr th {\n",
       "        vertical-align: top;\n",
       "    }\n",
       "\n",
       "    .dataframe thead th {\n",
       "        text-align: right;\n",
       "    }\n",
       "</style>\n",
       "<table border=\"1\" class=\"dataframe\">\n",
       "  <thead>\n",
       "    <tr style=\"text-align: right;\">\n",
       "      <th></th>\n",
       "      <th>f0</th>\n",
       "      <th>f1</th>\n",
       "      <th>f2</th>\n",
       "      <th>product</th>\n",
       "    </tr>\n",
       "  </thead>\n",
       "  <tbody>\n",
       "    <tr>\n",
       "      <th>count</th>\n",
       "      <td>100000.000000</td>\n",
       "      <td>100000.000000</td>\n",
       "      <td>100000.000000</td>\n",
       "      <td>100000.000000</td>\n",
       "    </tr>\n",
       "    <tr>\n",
       "      <th>mean</th>\n",
       "      <td>0.002023</td>\n",
       "      <td>-0.002081</td>\n",
       "      <td>2.495128</td>\n",
       "      <td>94.998580</td>\n",
       "    </tr>\n",
       "    <tr>\n",
       "      <th>std</th>\n",
       "      <td>1.732045</td>\n",
       "      <td>1.730417</td>\n",
       "      <td>3.473445</td>\n",
       "      <td>44.751123</td>\n",
       "    </tr>\n",
       "    <tr>\n",
       "      <th>min</th>\n",
       "      <td>-8.760004</td>\n",
       "      <td>-7.084020</td>\n",
       "      <td>-11.970335</td>\n",
       "      <td>0.000000</td>\n",
       "    </tr>\n",
       "    <tr>\n",
       "      <th>25%</th>\n",
       "      <td>-1.162288</td>\n",
       "      <td>-1.174820</td>\n",
       "      <td>0.130359</td>\n",
       "      <td>59.000000</td>\n",
       "    </tr>\n",
       "    <tr>\n",
       "      <th>50%</th>\n",
       "      <td>0.009424</td>\n",
       "      <td>-0.009482</td>\n",
       "      <td>2.484236</td>\n",
       "      <td>95.000000</td>\n",
       "    </tr>\n",
       "    <tr>\n",
       "      <th>75%</th>\n",
       "      <td>1.158535</td>\n",
       "      <td>1.163678</td>\n",
       "      <td>4.858794</td>\n",
       "      <td>131.000000</td>\n",
       "    </tr>\n",
       "    <tr>\n",
       "      <th>max</th>\n",
       "      <td>7.238262</td>\n",
       "      <td>7.844801</td>\n",
       "      <td>16.739402</td>\n",
       "      <td>190.000000</td>\n",
       "    </tr>\n",
       "  </tbody>\n",
       "</table>\n",
       "</div>"
      ],
      "text/plain": [
       "                  f0             f1             f2        product\n",
       "count  100000.000000  100000.000000  100000.000000  100000.000000\n",
       "mean        0.002023      -0.002081       2.495128      94.998580\n",
       "std         1.732045       1.730417       3.473445      44.751123\n",
       "min        -8.760004      -7.084020     -11.970335       0.000000\n",
       "25%        -1.162288      -1.174820       0.130359      59.000000\n",
       "50%         0.009424      -0.009482       2.484236      95.000000\n",
       "75%         1.158535       1.163678       4.858794     131.000000\n",
       "max         7.238262       7.844801      16.739402     190.000000"
      ]
     },
     "metadata": {},
     "output_type": "display_data"
    }
   ],
   "source": [
    "display(df_1.describe())\n",
    "display(df_2.describe())\n",
    "display(df_3.describe())"
   ]
  },
  {
   "cell_type": "markdown",
   "id": "3f915a05",
   "metadata": {},
   "source": [
    "##### Посмотрим все это дело еще визуально."
   ]
  },
  {
   "cell_type": "code",
   "execution_count": 20,
   "id": "d6c3c448",
   "metadata": {},
   "outputs": [],
   "source": [
    "import seaborn as sns"
   ]
  },
  {
   "cell_type": "markdown",
   "id": "2d5e45a0",
   "metadata": {},
   "source": [
    "В 1 регионе хорошее нормальное распределение в f2"
   ]
  },
  {
   "cell_type": "code",
   "execution_count": 21,
   "id": "7a60eb10",
   "metadata": {},
   "outputs": [
    {
     "data": {
      "image/png": "[encoded data removed]",
      "text/plain": [
       "<Figure size 1008x288 with 4 Axes>"
      ]
     },
     "metadata": {
      "needs_background": "light"
     },
     "output_type": "display_data"
    }
   ],
   "source": [
    "fig = plt.figure(figsize=(14,4))\n",
    "for index, feature in enumerate(df_1):\n",
    "    plt.subplot(1,4,index+1)\n",
    "    sns.boxenplot(y=feature, data=df_1)\n",
    "    plt.ylabel('{}'.format(feature), size=15, labelpad=5) \n",
    "fig.tight_layout(pad=1.0)"
   ]
  },
  {
   "cell_type": "markdown",
   "id": "6ac478c5",
   "metadata": {},
   "source": [
    "В регионе 2 явно f2 и product, приводились к чему то общему, распределение ненормальное. \n",
    "<br>В f0, и f1 вполне себе нормальное распределение."
   ]
  },
  {
   "cell_type": "code",
   "execution_count": 22,
   "id": "4f0dcc9e",
   "metadata": {},
   "outputs": [
    {
     "data": {
      "image/png": "[encoded data removed]",
      "text/plain": [
       "<Figure size 1008x288 with 4 Axes>"
      ]
     },
     "metadata": {
      "needs_background": "light"
     },
     "output_type": "display_data"
    }
   ],
   "source": [
    "fig = plt.figure(figsize=(14,4))\n",
    "for index, feature in enumerate(df_2):\n",
    "    plt.subplot(1,4,index+1)\n",
    "    sns.boxenplot(y=feature, data=df_2)\n",
    "    plt.ylabel('{}'.format(feature), size=15, labelpad=5) \n",
    "fig.tight_layout(pad=1.0)"
   ]
  },
  {
   "cell_type": "markdown",
   "id": "0eeeb661",
   "metadata": {},
   "source": [
    "Можно обратить внимание, что самые красивые графики в регионе 3, данные как то распределены равномерно. \n",
    "<br>Что говорит о хороших нормальных распределениях во всех признаках.\n",
    "<br>Я бы взял его на заметку.\n",
    "<br>Единственное присутствуют явно выраженные выбросы, в отличие от предыдущих регионов."
   ]
  },
  {
   "cell_type": "code",
   "execution_count": 23,
   "id": "0d794c3f",
   "metadata": {},
   "outputs": [
    {
     "data": {
      "image/png": "[encoded data removed]",
      "text/plain": [
       "<Figure size 1008x288 with 4 Axes>"
      ]
     },
     "metadata": {
      "needs_background": "light"
     },
     "output_type": "display_data"
    }
   ],
   "source": [
    "fig = plt.figure(figsize=(14,4))\n",
    "for index, feature in enumerate(df_3):\n",
    "    plt.subplot(1,4,index+1)\n",
    "    sns.boxenplot(y=feature, data=df_3)\n",
    "    plt.ylabel('{}'.format(feature), size=15, labelpad=5) \n",
    "fig.tight_layout(pad=1.0)"
   ]
  },
  {
   "cell_type": "markdown",
   "id": "e1314608",
   "metadata": {},
   "source": [
    "##### Непонятно конечно, что делать с выбросами в признаках f0, f1, f2. \n",
    "##### Т к про них нет никаких данных, что это и зачем, чтобы понять картину их устройства.\n",
    "##### В признаке product, в этом плане все хорошо."
   ]
  },
  {
   "cell_type": "code",
   "execution_count": 24,
   "id": "dfee436d",
   "metadata": {},
   "outputs": [
    {
     "data": {
      "text/plain": [
       "0"
      ]
     },
     "metadata": {},
     "output_type": "display_data"
    },
    {
     "data": {
      "text/plain": [
       "0"
      ]
     },
     "metadata": {},
     "output_type": "display_data"
    },
    {
     "data": {
      "text/plain": [
       "0"
      ]
     },
     "metadata": {},
     "output_type": "display_data"
    }
   ],
   "source": [
    "# поиск дубликатов\n",
    "display(df_1.duplicated().sum())\n",
    "display(df_2.duplicated().sum())\n",
    "display(df_3.duplicated().sum())"
   ]
  },
  {
   "cell_type": "markdown",
   "id": "2e13006f",
   "metadata": {},
   "source": [
    "### Вывод\n",
    "\n",
    "- Регион 1 - среднее и медианы почти равны.\n",
    "- Регион 2 - среднее выше, чем медиана, значит больше скважин с большими значениями. Значения запасов меньше, чем в регионе 1 и 3. Очень странное распределение, 6 групп с близкими парами. \n",
    "- Регион 3 - данные почти такие же как в регионе 1. Хорошие нормальные распределения, но выбросы во всех независимых признаках. \n",
    "<br>\n",
    "<br>\n",
    "- Самое интересное, чистка выбросов даже под корень, не улучшает и не ухудшает результаты в принципе."
   ]
  },
  {
   "cell_type": "markdown",
   "id": "cee4df12",
   "metadata": {},
   "source": [
    "### Обучение и проверка модели"
   ]
  },
  {
   "cell_type": "markdown",
   "id": "0cb71331",
   "metadata": {},
   "source": [
    "У нас три региона, напишем функцию, которая вернет квадратный корень из среднеквадратичной ошибки, предсказания и правильные ответы на валидационной выборке."
   ]
  },
  {
   "cell_type": "code",
   "execution_count": 25,
   "id": "24b3c866",
   "metadata": {},
   "outputs": [],
   "source": [
    "from sklearn.ensemble import GradientBoostingRegressor"
   ]
  },
  {
   "cell_type": "code",
   "execution_count": 26,
   "id": "25c53f69",
   "metadata": {},
   "outputs": [],
   "source": [
    "def predictions(geo):\n",
    "    # разделим данные на признаки и целевой признак\n",
    "    features = geo.drop(['product'], axis= 1)\n",
    "    target = geo['product']\n",
    "    # разобьем данные на обучающую и валидационную выборки в соотношении 75:25\n",
    "    features_train, features_valid, target_train, target_valid = train_test_split(\n",
    "        features, target, train_size = 0.75, random_state = 42)\n",
    "    \n",
    "    # обучим модель градиентного бустинга\n",
    "    model =  GradientBoostingRegressor(n_estimators=300,  max_depth=5)\n",
    "    model.fit(features_train, target_train)\n",
    "    # сохраним предсказания для валидационной выборки и RMSE\n",
    "    predicted_valid = model.predict(features_valid)\n",
    "    RMSE = mean_squared_error(target_valid, predicted_valid)**0.5\n",
    "    # преобразуем предсказания в Series\n",
    "    predicted_valid = pd.Series(predicted_valid)\n",
    "    # сравняем индексы значений\n",
    "    predicted_valid.index = target_valid.index\n",
    "    # возвращаем RMSE, предсказания и правильные ответы\n",
    "    return RMSE, predicted_valid, target_valid "
   ]
  },
  {
   "cell_type": "markdown",
   "id": "1cabfcbb",
   "metadata": {},
   "source": [
    "С помощью функции найдем RMSE, средний запас предсказанного сырья и средний запас настоящего сырья."
   ]
  },
  {
   "cell_type": "code",
   "execution_count": 27,
   "id": "d122d174",
   "metadata": {},
   "outputs": [],
   "source": [
    "import warnings\n",
    "warnings.filterwarnings(\"ignore\")"
   ]
  },
  {
   "cell_type": "code",
   "execution_count": 28,
   "id": "3f34b54f",
   "metadata": {},
   "outputs": [
    {
     "name": "stdout",
     "output_type": "stream",
     "text": [
      "Для региона 1: \n",
      "    Средний запас предсказанного сырья: 92.47 тыс. баррелей, \n",
      "    Средний запас настоящего сырья: 92.33 тыс. баррелей,\n",
      "    RMSE: 37.366\n"
     ]
    }
   ],
   "source": [
    "RMSE_1, predicted_valid_1, target_valid_1 = predictions(df_1)\n",
    "print(f'''Для региона 1: \n",
    "    Средний запас предсказанного сырья: {predicted_valid_1.mean():.2f} тыс. баррелей, \n",
    "    Средний запас настоящего сырья: {target_valid_1.mean():.2f} тыс. баррелей,\n",
    "    RMSE: {RMSE_1:.3f}''')"
   ]
  },
  {
   "cell_type": "code",
   "execution_count": 29,
   "id": "d4df881b",
   "metadata": {},
   "outputs": [
    {
     "data": {
      "text/plain": [
       "92.50062"
      ]
     },
     "execution_count": 29,
     "metadata": {},
     "output_type": "execute_result"
    }
   ],
   "source": [
    "df_1['product'].mean()"
   ]
  },
  {
   "cell_type": "code",
   "execution_count": 30,
   "id": "bcd9ccb2",
   "metadata": {},
   "outputs": [
    {
     "name": "stdout",
     "output_type": "stream",
     "text": [
      "Для региона 2: \n",
      "    Средний запас предсказанного сырья: 68.74 тыс. баррелей, \n",
      "    Средний запас настоящего сырья: 68.75 тыс. баррелей,\n",
      "    RMSE: 0.673\n"
     ]
    }
   ],
   "source": [
    "RMSE_2, predicted_valid_2, target_valid_2 = predictions(df_2)\n",
    "print(f'''Для региона 2: \n",
    "    Средний запас предсказанного сырья: {predicted_valid_2.mean():.2f} тыс. баррелей, \n",
    "    Средний запас настоящего сырья: {target_valid_2.mean():.2f} тыс. баррелей,\n",
    "    RMSE: {RMSE_2:.3f}''')"
   ]
  },
  {
   "cell_type": "code",
   "execution_count": 31,
   "id": "98befe32",
   "metadata": {},
   "outputs": [
    {
     "data": {
      "text/plain": [
       "68.85204"
      ]
     },
     "execution_count": 31,
     "metadata": {},
     "output_type": "execute_result"
    }
   ],
   "source": [
    "df_2['product'].mean()"
   ]
  },
  {
   "cell_type": "code",
   "execution_count": 32,
   "id": "f0ca9b3e",
   "metadata": {},
   "outputs": [
    {
     "name": "stdout",
     "output_type": "stream",
     "text": [
      "Для региона 3: \n",
      "    Средний запас предсказанного сырья: 94.75 тыс. баррелей, \n",
      "    Средний запас настоящего сырья: 95.15 тыс. баррелей,\n",
      "    RMSE: 37.733\n"
     ]
    }
   ],
   "source": [
    "RMSE_3, predicted_valid_3, target_valid_3 = predictions(df_3)\n",
    "print(f'''Для региона 3: \n",
    "    Средний запас предсказанного сырья: {predicted_valid_3.mean():.2f} тыс. баррелей, \n",
    "    Средний запас настоящего сырья: {target_valid_3.mean():.2f} тыс. баррелей,\n",
    "    RMSE: {RMSE_3:.3f}''')"
   ]
  },
  {
   "cell_type": "code",
   "execution_count": 33,
   "id": "2476ce9c",
   "metadata": {},
   "outputs": [
    {
     "data": {
      "text/plain": [
       "94.99858"
      ]
     },
     "execution_count": 33,
     "metadata": {},
     "output_type": "execute_result"
    }
   ],
   "source": [
    "df_3['product'].mean()"
   ]
  },
  {
   "cell_type": "markdown",
   "id": "24960e08",
   "metadata": {},
   "source": [
    "### Выводы"
   ]
  },
  {
   "cell_type": "markdown",
   "id": "face3777",
   "metadata": {},
   "source": [
    "- Для региона 2 практически нет ошибок, что неудивительно, учитывая как сгруппирован целевой признак.\n",
    "- В регионе 2 меньше всего средний объем сырья.\n",
    "- Регион 1 и 3 обладает большим запасом по сырью, по сравнению с первым регионом. Но и RMSE значительно больше."
   ]
  },
  {
   "cell_type": "markdown",
   "id": "77379e62",
   "metadata": {},
   "source": [
    "### Подготовка к расчёту прибыли"
   ]
  },
  {
   "cell_type": "markdown",
   "id": "af0163cb",
   "metadata": {},
   "source": [
    "- При разведке региона исследуют 500 точек, из которых с помощью машинного обучения выбирают 200 лучших для разработки.\n",
    "- Бюджет на разработку скважин в регионе — 10 млрд рублей.\n",
    "- При нынешних ценах один баррель сырья приносит 450 рублей дохода. Доход с каждой единицы продукта составляет 450 тыс. рублей, поскольку объём указан в тысячах баррелей.\n",
    "- После оценки рисков нужно оставить лишь те регионы, в которых вероятность убытков меньше 2.5%. Среди них выбирают регион с наибольшей средней прибылью."
   ]
  },
  {
   "cell_type": "markdown",
   "id": "ebc10d3c",
   "metadata": {},
   "source": [
    "#### Все ключевые значения для расчётов сохраним в отдельных переменных"
   ]
  },
  {
   "cell_type": "code",
   "execution_count": 34,
   "id": "1bf79de0",
   "metadata": {},
   "outputs": [],
   "source": [
    "BUDGET = 10_000_000_000 # бюджет\n",
    "SPOTS = 500 # 500 точек для исследования\n",
    "BEST_SPOTS = 200 # 200 лучших точек для разработки\n",
    "INCOME = 450_000 # доход с каждой единицы продукта"
   ]
  },
  {
   "cell_type": "markdown",
   "id": "1d8a4194",
   "metadata": {},
   "source": [
    "### Рассчитаем достаточный объём сырья для безубыточной разработки новой скважины"
   ]
  },
  {
   "cell_type": "code",
   "execution_count": 35,
   "id": "19962334",
   "metadata": {},
   "outputs": [
    {
     "name": "stdout",
     "output_type": "stream",
     "text": [
      "Для безубыточной разработки 500 скважин нужно получить в среднем по 111.11 тыс. баррелей с каждой из 200 лучших точек.\n"
     ]
    }
   ],
   "source": [
    "print(f'Для безубыточной разработки {SPOTS} скважин нужно получить в среднем по \\\n",
    "{BUDGET/INCOME/BEST_SPOTS:.2f} тыс. баррелей с каждой из 200 лучших точек.')"
   ]
  },
  {
   "cell_type": "markdown",
   "id": "7b63ad57",
   "metadata": {},
   "source": [
    "#### Выводы"
   ]
  },
  {
   "cell_type": "markdown",
   "id": "9e3dc036",
   "metadata": {},
   "source": [
    "- Средний запас сырья по всем трем регионам не удовлетворяет среднему значению по безубыточной разработке 500 точек.\n",
    "- Нужно правильно выбрать регион и лучшие точки с учетом рисков, чтобы компенсировать расходы на разработку."
   ]
  },
  {
   "cell_type": "markdown",
   "id": "c400d2b2",
   "metadata": {},
   "source": [
    "### Напишем функцию для расчёта прибыли по выбранным скважинам и предсказаниям модели"
   ]
  },
  {
   "cell_type": "code",
   "execution_count": 36,
   "id": "1be01881",
   "metadata": {},
   "outputs": [],
   "source": [
    "def profit(predicted_valid, target_valid):\n",
    "    # выбор 200 лучших скважин с максимальными значениями предсказаний\n",
    "    top_200 = predicted_valid.sort_values(ascending=False).head(BEST_SPOTS).index\n",
    "    # прибыль c полученного объёма сырья\n",
    "    profit = (target_valid.loc[top_200].sum()*INCOME)-BUDGET\n",
    "    return profit"
   ]
  },
  {
   "cell_type": "markdown",
   "id": "f5c3acf4",
   "metadata": {},
   "source": [
    "У 1 и 3 региона по идее самая лучшая прибыль c полученного объёма сырья должна быть."
   ]
  },
  {
   "cell_type": "code",
   "execution_count": 37,
   "id": "f61e5417",
   "metadata": {},
   "outputs": [
    {
     "data": {
      "text/plain": [
       "3557150000"
      ]
     },
     "execution_count": 37,
     "metadata": {},
     "output_type": "execute_result"
    }
   ],
   "source": [
    "top_200 = predicted_valid_1.sort_values(ascending=False).head(BEST_SPOTS).index\n",
    "(target_valid_1.loc[top_200].sum()*INCOME)-BUDGET"
   ]
  },
  {
   "cell_type": "code",
   "execution_count": 38,
   "id": "a2de3399",
   "metadata": {},
   "outputs": [
    {
     "data": {
      "text/plain": [
       "2420000000"
      ]
     },
     "execution_count": 38,
     "metadata": {},
     "output_type": "execute_result"
    }
   ],
   "source": [
    "top_200 = predicted_valid_2.sort_values(ascending=False).head(BEST_SPOTS).index\n",
    "(target_valid_2.loc[top_200].sum()*INCOME)-BUDGET"
   ]
  },
  {
   "cell_type": "code",
   "execution_count": 39,
   "id": "6f34f836",
   "metadata": {},
   "outputs": [
    {
     "data": {
      "text/plain": [
       "3460400000"
      ]
     },
     "execution_count": 39,
     "metadata": {},
     "output_type": "execute_result"
    }
   ],
   "source": [
    "top_200 = predicted_valid_3.sort_values(ascending=False).head(BEST_SPOTS).index\n",
    "(target_valid_3.loc[top_200].sum()*INCOME)-BUDGET"
   ]
  },
  {
   "cell_type": "markdown",
   "id": "9e2db284",
   "metadata": {},
   "source": [
    "### Расчёт прибыли и рисков"
   ]
  },
  {
   "cell_type": "markdown",
   "id": "7dfcca84",
   "metadata": {},
   "source": [
    "#### Применим технику Bootstrap с 1000 выборок, чтобы найти распределение прибыли"
   ]
  },
  {
   "cell_type": "markdown",
   "id": "d40dfedf",
   "metadata": {},
   "source": [
    "Напишем функцию, которая возвращает риск убытков, прибыль и 95%-й доверительный интервал."
   ]
  },
  {
   "cell_type": "code",
   "execution_count": 40,
   "id": "b1f10b21",
   "metadata": {},
   "outputs": [],
   "source": [
    "def revenue(predicted_valid, target_valid):\n",
    "    state = np.random.RandomState(23)\n",
    "    values = []\n",
    "    # применим bootstrap\n",
    "    for i in range(1000):\n",
    "        target_subsample = predicted_valid.sample(n = SPOTS, replace=True, random_state=state)\n",
    "        values.append(profit(target_subsample, target_valid))\n",
    "    values = pd.Series(values)\n",
    "    # находим 95%-й доверительный интервал\n",
    "    lower = values.quantile(0.025)\n",
    "    upper = values.quantile(0.975)\n",
    "    # считаем риск убытков\n",
    "    risk = (values < 0).mean()*100\n",
    "    return risk, values, lower, upper"
   ]
  },
  {
   "cell_type": "code",
   "execution_count": 41,
   "id": "e6d350a3",
   "metadata": {},
   "outputs": [
    {
     "name": "stdout",
     "output_type": "stream",
     "text": [
      "Для региона 1:  \n",
      "    95%-й доверительный интервал: -73.94 : 927.18 млн. рублей,\n",
      "    Средняя прибыль: 430.10 млн. рублей,\n",
      "    Риск убытков: 4.8 %\n"
     ]
    }
   ],
   "source": [
    "risk, values, lower, upper = revenue(predicted_valid_1, target_valid_1)\n",
    "print(f'''Для региона 1:  \n",
    "    95%-й доверительный интервал: {lower/1_000_000:.2f} : {upper/1_000_000:.2f} млн. рублей,\n",
    "    Средняя прибыль: {values.mean()/1_000_000:.2f} млн. рублей,\n",
    "    Риск убытков: {risk:.1f} %''')"
   ]
  },
  {
   "cell_type": "code",
   "execution_count": 42,
   "id": "94be6580",
   "metadata": {},
   "outputs": [
    {
     "name": "stdout",
     "output_type": "stream",
     "text": [
      "Для региона 2:  \n",
      "    95%-й доверительный интервал: 60.17 : 893.52 млн. рублей,\n",
      "    Средняя прибыль: 462.64 млн. рублей,\n",
      "    Риск убытков: 1.1 %\n"
     ]
    }
   ],
   "source": [
    "risk, values, lower, upper = revenue(predicted_valid_2, target_valid_2)\n",
    "print(f'''Для региона 2:  \n",
    "    95%-й доверительный интервал: {lower/1_000_000:.2f} : {upper/1_000_000:.2f} млн. рублей,\n",
    "    Средняя прибыль: {values.mean()/1_000_000:.2f} млн. рублей,\n",
    "    Риск убытков: {risk:.1f} %''')"
   ]
  },
  {
   "cell_type": "code",
   "execution_count": 43,
   "id": "56ae98da",
   "metadata": {},
   "outputs": [
    {
     "name": "stdout",
     "output_type": "stream",
     "text": [
      "Для региона 3:  \n",
      "    95%-й доверительный интервал: 156.00 : 1193.31 млн. рублей,\n",
      "    Средняя прибыль: 694.72 млн. рублей,\n",
      "    Риск убытков: 0.2 %\n"
     ]
    }
   ],
   "source": [
    "risk, values, lower, upper = revenue(predicted_valid_3, target_valid_3)\n",
    "print(f'''Для региона 3:  \n",
    "    95%-й доверительный интервал: {lower/1_000_000:.2f} : {upper/1_000_000:.2f} млн. рублей,\n",
    "    Средняя прибыль: {values.mean()/1_000_000:.2f} млн. рублей,\n",
    "    Риск убытков: {risk:.1f} %''')"
   ]
  },
  {
   "cell_type": "markdown",
   "id": "15155de9",
   "metadata": {},
   "source": [
    "### Выводы"
   ]
  },
  {
   "cell_type": "markdown",
   "id": "4274f110",
   "metadata": {},
   "source": [
    "##### 3 регион в лидерах по прибыли и безубыточности."
   ]
  },
  {
   "cell_type": "markdown",
   "id": "04f12dfa",
   "metadata": {},
   "source": [
    "- Риск убытков для региона составлет 0.2 %, что укладывается в заданные границы в 2.5%.\n",
    "---\n",
    "- В регионе максимальная средняя прибыль в 694.67 млн. рублей.\n",
    "---\n",
    "---\n",
    "- RMSE = 37.732\n",
    "<br>Здесь надо отметить, что у 2 региона значительно ниже значения. Я думаю здесь хорошо бы разобраться с данными 2 региона, каким образом они так сформированы. Данные у 3 региона самые лучшие по распределениям, хотя и с выбросами. Здесь бы тоже уточнить, про независимые признаки, какая у них роль.\n",
    "---\n",
    "---\n",
    "- На основании выше перечисленных пунктов, **можно сделать вывод, что лучшим регионом для разработки является 3 регион**. За неимением, больших данных."
   ]
  },
  {
   "cell_type": "markdown",
   "id": "048fece3",
   "metadata": {},
   "source": [
    "---\n",
    "---"
   ]
  }
 ],
 "metadata": {
  "kernelspec": {
   "display_name": "Python 3 (ipykernel)",
   "language": "python",
   "name": "python3"
  },
  "language_info": {
   "codemirror_mode": {
    "name": "ipython",
    "version": 3
   },
   "file_extension": ".py",
   "mimetype": "text/x-python",
   "name": "python",
   "nbconvert_exporter": "python",
   "pygments_lexer": "ipython3",
   "version": "3.9.7"
  }
 },
 "nbformat": 4,
 "nbformat_minor": 5
}
